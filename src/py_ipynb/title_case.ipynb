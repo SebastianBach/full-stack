{
 "cells": [
  {
   "cell_type": "markdown",
   "id": "22357e31-ec62-4477-9526-4b1f33393967",
   "metadata": {},
   "source": [
    "This notebook will show how to use the **text_conversion** module to create a APA style headline."
   ]
  },
  {
   "cell_type": "markdown",
   "id": "e65b88e1-d10e-4afc-989e-ddb0ed18334b",
   "metadata": {},
   "source": [
    "First, define the text to format:"
   ]
  },
  {
   "cell_type": "code",
   "execution_count": 15,
   "id": "f1e81f89-2f2b-44a3-ad60-593be34bffde",
   "metadata": {},
   "outputs": [],
   "source": [
    "headline = \"this is a headline\""
   ]
  },
  {
   "cell_type": "markdown",
   "id": "ca86fd8a-d00a-4151-b666-491903bbb4d6",
   "metadata": {},
   "source": [
    "This text is not yet formatted:"
   ]
  },
  {
   "cell_type": "code",
   "execution_count": 16,
   "id": "366c9a5a-f6b0-41a6-8fb8-87d32dcc55fc",
   "metadata": {},
   "outputs": [
    {
     "name": "stdout",
     "output_type": "stream",
     "text": [
      "this is a headline\n"
     ]
    }
   ],
   "source": [
    "print(headline)"
   ]
  },
  {
   "cell_type": "markdown",
   "id": "34f7ee2d-566a-4623-82b5-3e4140f5d9e7",
   "metadata": {},
   "source": [
    "Import the **text_conversion** module:"
   ]
  },
  {
   "cell_type": "code",
   "execution_count": 17,
   "id": "d1037a4d-436a-4a7e-90f2-5867845304e1",
   "metadata": {},
   "outputs": [],
   "source": [
    "import text_conversion"
   ]
  },
  {
   "cell_type": "markdown",
   "id": "9288627e-4ae0-4a14-8be4-9f5ee223be7b",
   "metadata": {},
   "source": [
    "Use the module's ```title_case``` function to format the headline:"
   ]
  },
  {
   "cell_type": "code",
   "execution_count": 18,
   "id": "f2ca63bf-3be5-4e6d-8d19-270496b772d1",
   "metadata": {},
   "outputs": [],
   "source": [
    "formatted_headline = text_conversion.title_case(headline)"
   ]
  },
  {
   "cell_type": "markdown",
   "id": "dd739818-97c0-4baa-bccf-bfdc8b522003",
   "metadata": {},
   "source": [
    "You can now use the formatted headline:"
   ]
  },
  {
   "cell_type": "code",
   "execution_count": 19,
   "id": "71625f79-9885-4ae2-94e2-0d072198a163",
   "metadata": {},
   "outputs": [
    {
     "name": "stdout",
     "output_type": "stream",
     "text": [
      "This Is a Headline\n"
     ]
    }
   ],
   "source": [
    "print(formatted_headline)"
   ]
  }
 ],
 "metadata": {
  "kernelspec": {
   "display_name": "Python 3 (ipykernel)",
   "language": "python",
   "name": "python3"
  },
  "language_info": {
   "codemirror_mode": {
    "name": "ipython",
    "version": 3
   },
   "file_extension": ".py",
   "mimetype": "text/x-python",
   "name": "python",
   "nbconvert_exporter": "python",
   "pygments_lexer": "ipython3",
   "version": "3.10.12"
  }
 },
 "nbformat": 4,
 "nbformat_minor": 5
}
